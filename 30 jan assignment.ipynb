{
 "cells": [
  {
   "cell_type": "code",
   "execution_count": 4,
   "id": "af95eb10-873e-4cb6-be87-250586f061d0",
   "metadata": {},
   "outputs": [
    {
     "name": "stdin",
     "output_type": "stream",
     "text": [
      "enter the marks to know the grade 80\n"
     ]
    },
    {
     "name": "stdout",
     "output_type": "stream",
     "text": [
      "you have grade C\n"
     ]
    }
   ],
   "source": [
    "#1 grade question \n",
    "marks = int(input(\"enter the marks to know the grade\"))\n",
    "if marks > 90:\n",
    "    print(\"you have grade A\")\n",
    "elif 90>= marks >80:\n",
    "    print(\"you have grade B\")\n",
    "elif 80>= marks >=60:\n",
    "    print(\"you have grade C\")\n",
    "else:\n",
    "    print(\"you have grade D\")"
   ]
  },
  {
   "cell_type": "code",
   "execution_count": null,
   "id": "69baf04a-c8e6-4426-8974-0270c94decb9",
   "metadata": {},
   "outputs": [],
   "source": [
    "#2 bike tax question\n",
    "bike_price = int(input(\"Enter the price of the bike\"))\n",
    "if bike_price >100000:\n",
    "    print(\"you have to pay the tax of 15%\")\n",
    "elif 100000>= bike_price > 50000:\n",
    "    print(\"you have to pay the tax of 10%\")\n",
    "else:\n",
    "    print(\"you have to pay the tax of 5%\")"
   ]
  },
  {
   "cell_type": "code",
   "execution_count": null,
   "id": "2617a587-f98f-47c7-98f9-bed9a76e6710",
   "metadata": {},
   "outputs": [],
   "source": [
    "#3 city and the monumnets \n",
    "City = input(\"enter your city\")\n",
    "if City == \"Delhi\":\n",
    "    print(\"Red fort\")\n",
    "elif City == \"Agra\":\n",
    "    print(\"Taj Mahal\")\n",
    "else:\n",
    "    City == \"Jaipur\"\n",
    "    print(\"Jal Mahal\")\n"
   ]
  },
  {
   "cell_type": "code",
   "execution_count": null,
   "id": "03c2d3e2-2502-4676-9659-64afb263a2c0",
   "metadata": {},
   "outputs": [],
   "source": [
    "#4 \n",
    "n = int(input(\"enter your number\"))\n",
    "count = 0 \n",
    "while n > 10:\n",
    "    n3\n",
    "    count = count +1\n",
    "print(count)"
   ]
  },
  {
   "cell_type": "code",
   "execution_count": null,
   "id": "f1fedbe4-3459-42b6-b96f-44eb9a3b7e17",
   "metadata": {},
   "outputs": [],
   "source": [
    "# 5\n",
    "#Python while loop is used to run a block code until a certain condition is met. Here, A while loop evaluates the condition. If the condition evaluates to True , the code inside the while loop is executed\n",
    "# We can use while loop to execute a set of statment again and again until it gets True.\n",
    "# we use while loop to avaid the writing of same condition again and again.\n",
    "# example of while loop \n",
    "l =[1,2,3,4,5,6,7,8]\n",
    "i = 1\n",
    "while i < len(l):\n",
    "    print(i)\n",
    "    i = i+1\n",
    "# in the above example the loop is executed unil the condition is True when the condition get false the loop stop executin. \n"
   ]
  },
  {
   "cell_type": "code",
   "execution_count": null,
   "id": "5a85ac8f-51d8-4ecc-bf21-73d7c1410b78",
   "metadata": {},
   "outputs": [],
   "source": [
    "#6\n",
    "i = 1\n",
    "while i <=3:\n",
    "    j = 0 \n",
    "    while j <=2:\n",
    "        print(i*j)\n",
    "        j = j +1\n",
    "    print()\n",
    "i = i +1"
   ]
  },
  {
   "cell_type": "code",
   "execution_count": null,
   "id": "1d6d5951-7bba-43ce-8f34-2cf65df7fc78",
   "metadata": {},
   "outputs": [],
   "source": [
    "#7\n",
    "i = 10 \n",
    "while i>=0:\n",
    "    if i ==0:\n",
    "        break \n",
    "    print(i) \n",
    "    i = i -1"
   ]
  },
  {
   "cell_type": "code",
   "execution_count": null,
   "id": "f500cabd-c760-406a-90ad-c358de414bba",
   "metadata": {},
   "outputs": [],
   "source": [
    "#8\n",
    "i = 10 \n",
    "while i>=0:\n",
    "    if i ==0:\n",
    "        break \n",
    "    print(i) \n",
    "    i = i -1"
   ]
  }
 ],
 "metadata": {
  "kernelspec": {
   "display_name": "Python 3 (ipykernel)",
   "language": "python",
   "name": "python3"
  },
  "language_info": {
   "codemirror_mode": {
    "name": "ipython",
    "version": 3
   },
   "file_extension": ".py",
   "mimetype": "text/x-python",
   "name": "python",
   "nbconvert_exporter": "python",
   "pygments_lexer": "ipython3",
   "version": "3.10.8"
  }
 },
 "nbformat": 4,
 "nbformat_minor": 5
}
